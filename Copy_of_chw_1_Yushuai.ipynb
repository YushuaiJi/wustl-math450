{
  "nbformat": 4,
  "nbformat_minor": 0,
  "metadata": {
    "kernelspec": {
      "display_name": "Python 3",
      "language": "python",
      "name": "python3"
    },
    "language_info": {
      "codemirror_mode": {
        "name": "ipython",
        "version": 3
      },
      "file_extension": ".py",
      "mimetype": "text/x-python",
      "name": "python",
      "nbconvert_exporter": "python",
      "pygments_lexer": "ipython3",
      "version": "3.7.9-final"
    },
    "colab": {
      "name": "Copy of chw-1_YOUR_NAME.ipynb",
      "provenance": [],
      "include_colab_link": true
    }
  },
  "cells": [
    {
      "cell_type": "markdown",
      "metadata": {
        "id": "view-in-github",
        "colab_type": "text"
      },
      "source": [
        "<a href=\"https://colab.research.google.com/github/YushuaiJi/wustl-math450/blob/main/Copy_of_chw_1_Yushuai.ipynb\" target=\"_parent\"><img src=\"https://colab.research.google.com/assets/colab-badge.svg\" alt=\"Open In Colab\"/></a>"
      ]
    },
    {
      "cell_type": "markdown",
      "metadata": {
        "id": "29bqe_jp4raz"
      },
      "source": [
        "# Homework 1: Transition from NumPy to PyTorch\n",
        "\n",
        "Name:\n",
        "\n",
        "Wustlkey:\n",
        "\n",
        "Partner Name (if applicable):\n",
        "\n",
        "Partner Wustlkey (if applicable):\n",
        "\n",
        "### Submission instructions\n",
        "\n",
        "- Submit the modified python notebook as homework submission.\n",
        "- Group submission is enabled, you can submit this coding assignment with up to 1 teammate in our class. For instruction of how to do a group submission. Please refer to Canvas useful links.\n",
        "- Do not change the number of cells! Please work in the cell provided. If we need extra cells for debugging and testing purposes, we can work at the end of this notebook, save everything as a backup for review, and delete the extra cells in the submitted version.\n",
        "\n",
        " \n",
        "\n",
        "### Instructions\n",
        "Do **not** use for loops in any of our solutions! Efficieny will be graded as well. For example if a problem asks us generate an array from 0 to 9: then\n",
        "```python\n",
        "x = []\n",
        "for i in range(10):\n",
        "    x.append(i)\n",
        "```\n",
        "this will only result a partial credit while\n",
        "```python\n",
        "x = np.arange(10)\n",
        "```\n",
        "or\n",
        "```python\n",
        "x = torch.arange(10)\n",
        "```\n",
        "will yield a full score.\n",
        "\n",
        "### Problems\n",
        "Below are 6 problems that explore different common used tools in Numpy and how to translate them into Torch codes. Each problem gives examples demonstrating the concept and has an associated coding task. Complete the coding tasks for credit.\n",
        "\n",
        "### Grading\n",
        "This homework has 6 problems, 4 points each for problem 1-5 and 10 points for the last problem. The homework will be graded and the grade counts towards your course grade. The homework will weigh 50% compared to the subsequent assignemnts (it's not fully weighted...). \n",
        "\n",
        "## Coding environments and submission\n",
        "If we do not have `torch` installed on your computer, we have three ways to upload this notebook to [Google colab](https://colab.research.google.com/)：\n",
        "\n",
        "1. Open up Google Colab, choose `Upload` to upload this template and work there. After we have done working we can select `File->Download .ipynb`.\n",
        "2. Open up Google Colab, choose either `GitHub` or `Google Drive` to select the uploaded notebook in the corresponding website. After done working, we can sync the file to the corresponding GitHub or Google Drive copy."
      ]
    },
    {
      "cell_type": "code",
      "metadata": {
        "id": "13GaMwww4ra3"
      },
      "source": [
        "# Run Me First\n",
        "import numpy as np\n",
        "import torch"
      ],
      "execution_count": 6,
      "outputs": []
    },
    {
      "cell_type": "markdown",
      "metadata": {
        "id": "8FBfztri4ra3"
      },
      "source": [
        "## 1D Basic Array Functions\n",
        "### Examples"
      ]
    },
    {
      "cell_type": "code",
      "metadata": {
        "id": "Phwveyyh4ra4"
      },
      "source": [
        "arr1 = torch.tensor([\n",
        "    55.70000076,  51.40000153,  50.5       ,  75.69999695,\n",
        "    58.40000153,  40.09999847,  61.5       ,  57.09999847,\n",
        "    60.90000153,  66.59999847,  60.40000153,  68.09999847,\n",
        "    66.90000153,  53.40000153,  48.59999847,  56.79999924,\n",
        "    71.59999847,  58.40000153,  70.40000153,  41.20000076\n",
        "])"
      ],
      "execution_count": null,
      "outputs": []
    },
    {
      "cell_type": "code",
      "metadata": {
        "id": "qAEOMHqr4ra4",
        "colab": {
          "base_uri": "https://localhost:8080/"
        },
        "outputId": "c6eacefe-b7a5-4c4a-82f6-d1ce77005f92"
      },
      "source": [
        "# Accessing elements\n",
        "print(arr1[0])\n",
        "print(arr1[1])\n",
        "print(arr1[2])\n",
        "print(arr1[3])"
      ],
      "execution_count": null,
      "outputs": [
        {
          "output_type": "stream",
          "text": [
            "tensor(55.7000)\n",
            "tensor(51.4000)\n",
            "tensor(50.5000)\n",
            "tensor(75.7000)\n"
          ],
          "name": "stdout"
        }
      ]
    },
    {
      "cell_type": "code",
      "metadata": {
        "id": "iDyc7KlX4ra4",
        "colab": {
          "base_uri": "https://localhost:8080/"
        },
        "outputId": "2838892c-1932-4196-e620-0ce8f0c173c9"
      },
      "source": [
        "#Slicing\n",
        "print(arr1[0:3])\n",
        "print(arr1[:3])\n",
        "print(arr1[17:])\n",
        "print(arr1[:])"
      ],
      "execution_count": null,
      "outputs": [
        {
          "output_type": "stream",
          "text": [
            "tensor([55.7000, 51.4000, 50.5000])\n",
            "tensor([55.7000, 51.4000, 50.5000])\n",
            "tensor([58.4000, 70.4000, 41.2000])\n",
            "tensor([55.7000, 51.4000, 50.5000, 75.7000, 58.4000, 40.1000, 61.5000, 57.1000,\n",
            "        60.9000, 66.6000, 60.4000, 68.1000, 66.9000, 53.4000, 48.6000, 56.8000,\n",
            "        71.6000, 58.4000, 70.4000, 41.2000])\n"
          ],
          "name": "stdout"
        }
      ]
    },
    {
      "cell_type": "code",
      "metadata": {
        "id": "B8C8q1lx4ra4",
        "colab": {
          "base_uri": "https://localhost:8080/"
        },
        "outputId": "83e9ad73-fee4-40de-9942-1332148bcd38"
      },
      "source": [
        "#Element Types\n",
        "print(arr1.dtype)\n",
        "print(torch.tensor([0, 1, 2, 3]).dtype)\n",
        "print(torch.tensor([1.0, 1.5, 2.0, 2.5]).dtype)\n",
        "print(torch.tensor([1.0, 1.5, 2.0, 2.5], dtype=torch.float64).dtype)\n",
        "print(torch.tensor([True, False, True]).dtype)"
      ],
      "execution_count": null,
      "outputs": [
        {
          "output_type": "stream",
          "text": [
            "torch.float32\n",
            "torch.int64\n",
            "torch.float32\n",
            "torch.float64\n",
            "torch.bool\n"
          ],
          "name": "stdout"
        }
      ]
    },
    {
      "cell_type": "code",
      "metadata": {
        "id": "TG_OO7EU4ra4"
      },
      "source": [
        "# Looping - AVOID THIS!\n",
        "\n",
        "for i in range(len(arr1)):\n",
        "    element = arr1[i]\n",
        "    print(f'Array {i}-th entry has value {element}')"
      ],
      "execution_count": null,
      "outputs": []
    },
    {
      "cell_type": "code",
      "metadata": {
        "id": "co02JyGh4ra5"
      },
      "source": [
        "# (Almost) Every numpy functions has it torch counterparts\n",
        "print(arr1.mean())\n",
        "print(arr1.std())\n",
        "print(arr1.max())\n",
        "print(arr1.sum())"
      ],
      "execution_count": null,
      "outputs": []
    },
    {
      "cell_type": "markdown",
      "metadata": {
        "id": "Mg3T3Nm94ra5"
      },
      "source": [
        "### Problem 1\n",
        "\n",
        "Fill in the following cell to calculate the maximum of the first half (first `len(arr1)//2` elements) and the second half of the array using slicing and the built-in `max()` method."
      ]
    },
    {
      "cell_type": "code",
      "metadata": {
        "id": "Nm5zA8g94ra5",
        "colab": {
          "base_uri": "https://localhost:8080/"
        },
        "outputId": "6de45765-36b7-48cb-ce28-f0f713a7623a"
      },
      "source": [
        "max_1st_half = arr1[0:len(arr1)//2].max()      # Replace this with your code\n",
        "max_2nd_half = arr1[len(arr1)//2:].max()       # Replace this with your code\n",
        "\n",
        "# your code here\n",
        "\n",
        "print(f\"Max of the 1st half: {max_1st_half}; Max of the 2nd half: {max_2nd_half}\")"
      ],
      "execution_count": null,
      "outputs": [
        {
          "output_type": "stream",
          "text": [
            "Max of the 1st half: 75.69999694824219; Max of the 2nd half: 71.5999984741211\n"
          ],
          "name": "stdout"
        }
      ]
    },
    {
      "cell_type": "markdown",
      "metadata": {
        "id": "4qnoE_G74ra5"
      },
      "source": [
        "## 1D Arithmetic and Logic\n",
        "### Examples"
      ]
    },
    {
      "cell_type": "code",
      "metadata": {
        "id": "cpZ4RIlh4ra5",
        "colab": {
          "base_uri": "https://localhost:8080/"
        },
        "outputId": "18e71be6-0649-47f1-c815-fe3c524f6da8"
      },
      "source": [
        "# Arithmetic operations between 2 torch tensors\n",
        "a = torch.tensor([1, 2, 3, 4])\n",
        "b = torch.tensor([1, 2, 1, 2])\n",
        "\n",
        "print(a + b)\n",
        "print(a - b)\n",
        "print(a * b)\n",
        "print(a / b)\n",
        "print(a ** b)"
      ],
      "execution_count": null,
      "outputs": [
        {
          "output_type": "stream",
          "text": [
            "tensor([2, 4, 4, 6])\n",
            "tensor([0, 0, 2, 2])\n",
            "tensor([1, 4, 3, 8])\n",
            "tensor([1., 1., 3., 2.])\n",
            "tensor([ 1,  4,  3, 16])\n"
          ],
          "name": "stdout"
        }
      ]
    },
    {
      "cell_type": "code",
      "metadata": {
        "id": "PrpHSHji4ra5",
        "colab": {
          "base_uri": "https://localhost:8080/"
        },
        "outputId": "67d6ab9c-1612-450d-b718-919e74aaf04d"
      },
      "source": [
        "# Arithmetic operations between a torch tensor and a single number  \n",
        "a = torch.tensor([1, 2, 3, 4])\n",
        "b = 2\n",
        "\n",
        "print(a + b)\n",
        "print(a - b)\n",
        "print(a * b)\n",
        "print(a / b)\n",
        "print(a ** b)"
      ],
      "execution_count": null,
      "outputs": [
        {
          "output_type": "stream",
          "text": [
            "tensor([3, 4, 5, 6])\n",
            "tensor([-1,  0,  1,  2])\n",
            "tensor([2, 4, 6, 8])\n",
            "tensor([0.5000, 1.0000, 1.5000, 2.0000])\n",
            "tensor([ 1,  4,  9, 16])\n"
          ],
          "name": "stdout"
        }
      ]
    },
    {
      "cell_type": "code",
      "metadata": {
        "id": "fiPbqr_24ra6",
        "colab": {
          "base_uri": "https://localhost:8080/"
        },
        "outputId": "bf7b8f05-4279-450e-da2c-f92e4695ae0a"
      },
      "source": [
        "# Logical operations with torch tensors\n",
        "a = torch.tensor([True, True, False, False])\n",
        "b = torch.tensor([True, False, True, False])\n",
        "\n",
        "print(a & b)\n",
        "print(a | b)\n",
        "print(~a)\n",
        "\n",
        "print(a & True)\n",
        "print(a & False)\n",
        "\n",
        "print(a | True)\n",
        "print(a | False)"
      ],
      "execution_count": null,
      "outputs": [
        {
          "output_type": "stream",
          "text": [
            "tensor([ True, False, False, False])\n",
            "tensor([ True,  True,  True, False])\n",
            "tensor([False, False,  True,  True])\n",
            "tensor([ True,  True, False, False])\n",
            "tensor([False, False, False, False])\n",
            "tensor([True, True, True, True])\n",
            "tensor([ True,  True, False, False])\n"
          ],
          "name": "stdout"
        }
      ]
    },
    {
      "cell_type": "code",
      "metadata": {
        "id": "DekZLA8n4ra6",
        "colab": {
          "base_uri": "https://localhost:8080/"
        },
        "outputId": "d924ba19-c61c-4eb8-f027-ced07da346c4"
      },
      "source": [
        "# Comparison operations of torch tensors to a number\n",
        "a = torch.tensor([1, 2, 3, 4])\n",
        "b = 2\n",
        "    \n",
        "print(a > b)\n",
        "print(a >= b)\n",
        "print(a < b)\n",
        "print(a <= b)\n",
        "print(a == b)\n",
        "print(a != b)"
      ],
      "execution_count": null,
      "outputs": [
        {
          "output_type": "stream",
          "text": [
            "tensor([False, False,  True,  True])\n",
            "tensor([False,  True,  True,  True])\n",
            "tensor([ True, False, False, False])\n",
            "tensor([ True,  True, False, False])\n",
            "tensor([False,  True, False, False])\n",
            "tensor([ True, False,  True,  True])\n"
          ],
          "name": "stdout"
        }
      ]
    },
    {
      "cell_type": "markdown",
      "metadata": {
        "id": "M5N6tu-h4ra6"
      },
      "source": [
        "### Problem 2\n",
        "Fill in this section to compute a `torch.tensor` containing the average of the two given arrays to achieve the effect of the following `for` loop:\n",
        "```python\n",
        "avg = []\n",
        "for i in range(len(arr1)):\n",
        "    avg.append((arr1[i] + arr2[i])/2)\n",
        "```"
      ]
    },
    {
      "cell_type": "code",
      "metadata": {
        "id": "5f8eX9p74ra6",
        "colab": {
          "base_uri": "https://localhost:8080/"
        },
        "outputId": "05557170-e575-4e1a-a4c5-709c0ee9d6a9"
      },
      "source": [
        "arr1 = torch.tensor([\n",
        "    97.35583,  104.62379,  103.02998,   95.14321,  103.69019,\n",
        "    98.49185,  100.88828,   95.43974,   92.11484,   91.54804,\n",
        "    95.98029,   98.22902,   96.12179,  119.28105,   97.84627,\n",
        "    29.07386,   38.41644,   90.70509,   51.7478 ,   95.45072\n",
        "])\n",
        "\n",
        "arr2 = torch.tensor([\n",
        "     95.47622,  100.66476,   99.7926 ,   91.48936,  103.22096,\n",
        "     97.80458,  103.81398,   88.11736,   93.55611,   87.76347,\n",
        "    102.45714,   98.73953,   92.22388,  115.3892 ,   98.70502,\n",
        "     37.00692,   45.39401,   91.22084,   62.42028,   90.66958\n",
        "])\n",
        "\n",
        "'''\n",
        "    \n",
        "'''\n",
        "arr_avg = (arr1+arr2)/2   # Replace this with your code\n",
        "\n",
        "# your code here\n",
        "\n",
        "print(arr_avg)"
      ],
      "execution_count": null,
      "outputs": [
        {
          "output_type": "stream",
          "text": [
            "tensor([ 96.4160, 102.6443, 101.4113,  93.3163, 103.4556,  98.1482, 102.3511,\n",
            "         91.7785,  92.8355,  89.6558,  99.2187,  98.4843,  94.1728, 117.3351,\n",
            "         98.2756,  33.0404,  41.9052,  90.9630,  57.0840,  93.0602])\n"
          ],
          "name": "stdout"
        }
      ]
    },
    {
      "cell_type": "markdown",
      "metadata": {
        "id": "3di3ny864ra6"
      },
      "source": [
        "## 1D Boolean (Fancy and Fast) Indexing\n",
        "###  Examples"
      ]
    },
    {
      "cell_type": "code",
      "metadata": {
        "id": "WX8ZMiwe4ra6",
        "colab": {
          "base_uri": "https://localhost:8080/"
        },
        "outputId": "0908e1ec-e028-480f-f2e2-d53f394919bc"
      },
      "source": [
        "# Using index arrays\n",
        "a = torch.tensor([1, 2, 3, 4])\n",
        "b = torch.tensor([True, True, False, False])\n",
        "    \n",
        "print(a[b])\n",
        "print(a[torch.tensor([True, False, True, False])])"
      ],
      "execution_count": null,
      "outputs": [
        {
          "output_type": "stream",
          "text": [
            "tensor([1, 2])\n",
            "tensor([1, 3])\n"
          ],
          "name": "stdout"
        }
      ]
    },
    {
      "cell_type": "code",
      "metadata": {
        "id": "XSmrXSp74ra7",
        "colab": {
          "base_uri": "https://localhost:8080/"
        },
        "outputId": "c65ec481-57ef-40ba-8611-3614e87a8fe2"
      },
      "source": [
        "# Creating the index array using vectorized operations (Recall ReLU implemented in class)\n",
        "a = torch.tensor([1, 2, 3, 2, 1])\n",
        "b = (a >= 2)\n",
        "    \n",
        "print(a[b])\n",
        "print(a[a >= 2])"
      ],
      "execution_count": null,
      "outputs": [
        {
          "output_type": "stream",
          "text": [
            "tensor([2, 3, 2])\n",
            "tensor([2, 3, 2])\n"
          ],
          "name": "stdout"
        }
      ]
    },
    {
      "cell_type": "code",
      "metadata": {
        "id": "0JAmI9KZ4ra7",
        "colab": {
          "base_uri": "https://localhost:8080/"
        },
        "outputId": "a129a0d0-0ed6-4e8c-8fb0-6de20ad4c87d"
      },
      "source": [
        "# Creating the index array using vectorized operations on another array\n",
        "a = torch.tensor([1, 2, 3, 4, 5])\n",
        "b = torch.tensor([1, 2, 3, 2, 1])\n",
        "    \n",
        "print(b == 2)\n",
        "print(a[b == 2])"
      ],
      "execution_count": null,
      "outputs": [
        {
          "output_type": "stream",
          "text": [
            "tensor([False,  True, False,  True, False])\n",
            "tensor([2, 4])\n"
          ],
          "name": "stdout"
        }
      ]
    },
    {
      "cell_type": "markdown",
      "metadata": {
        "id": "7SsjXYM34ra7"
      },
      "source": [
        "### Problem 3\n",
        "\n",
        "Fill in the following cell using the boolean indexing vectorization technique to calculate an array that can be achieved using the following `for` loop:\n",
        "```python\n",
        "result = []\n",
        "for i in range(len(arr1)):\n",
        "    if arr1[i] < 60:\n",
        "        result.append(arr2[i])\n",
        "\n",
        "```"
      ]
    },
    {
      "cell_type": "code",
      "metadata": {
        "id": "BtWBWmgE4ra7",
        "colab": {
          "base_uri": "https://localhost:8080/"
        },
        "outputId": "0e7e3d66-58b8-487e-fccc-2bd2ee4d27f6"
      },
      "source": [
        "arr1 = torch.tensor([\n",
        "       12.89697233,    0.        ,   64.55043217,    0.        ,\n",
        "       24.2315615 ,   39.991625  ,    0.        ,    0.        ,\n",
        "      147.20683783,    0.        ,    0.        ,    0.        ,\n",
        "       45.18261617,  157.60454283,  133.2434615 ,   52.85000767,\n",
        "        0.        ,   54.9204785 ,   26.78142417,    0.\n",
        "])\n",
        "\n",
        "arr2 = torch.tensor([4,   5,  37,   3,  12,   \n",
        "                 4,  35,  38,   5,  37,   \n",
        "                 3,   3,  68,  38,  98,   \n",
        "                 2, 249,   2, 127,  35])\n",
        "\n",
        "'''\n",
        "\n",
        "'''\n",
        "result = arr1[arr2<60]\n",
        "\n",
        "# your code here\n",
        "\n",
        "print(result)    "
      ],
      "execution_count": null,
      "outputs": [
        {
          "output_type": "stream",
          "text": [
            "tensor([ 12.8970,   0.0000,  64.5504,   0.0000,  24.2316,  39.9916,   0.0000,\n",
            "          0.0000, 147.2068,   0.0000,   0.0000,   0.0000, 157.6045,  52.8500,\n",
            "         54.9205,   0.0000])\n"
          ],
          "name": "stdout"
        }
      ]
    },
    {
      "cell_type": "markdown",
      "metadata": {
        "id": "2-URyATr4ra7"
      },
      "source": [
        "## 2D Basic Functions: Indexing, Axis\n",
        "### Example 1"
      ]
    },
    {
      "cell_type": "code",
      "metadata": {
        "id": "Z48ZBmbC4ra7"
      },
      "source": [
        "mat1 = torch.tensor([\n",
        "    [   0,    0,    2,    5,    0],\n",
        "    [1478, 3877, 3674, 2328, 2539],\n",
        "    [1613, 4088, 3991, 6461, 2691],\n",
        "    [1560, 3392, 3826, 4787, 2613],\n",
        "    [1608, 4802, 3932, 4477, 2705],\n",
        "    [1576, 3933, 3909, 4979, 2685],\n",
        "    [  95,  229,  255,  496,  201],\n",
        "    [   2,    0,    1,   27,    0],\n",
        "    [1438, 3785, 3589, 4174, 2215],\n",
        "    [1342, 4043, 4009, 4665, 3033]\n",
        "])"
      ],
      "execution_count": null,
      "outputs": []
    },
    {
      "cell_type": "code",
      "metadata": {
        "id": "XnEe4j4waTD5",
        "colab": {
          "base_uri": "https://localhost:8080/"
        },
        "outputId": "b585c71a-4aa2-4b2b-cc72-1be403b18175"
      },
      "source": [
        "mat1[0,0]"
      ],
      "execution_count": null,
      "outputs": [
        {
          "output_type": "execute_result",
          "data": {
            "text/plain": [
              "tensor(0)"
            ]
          },
          "metadata": {
            "tags": []
          },
          "execution_count": 49
        }
      ]
    },
    {
      "cell_type": "code",
      "metadata": {
        "id": "80ycHHcu4ra7",
        "colab": {
          "base_uri": "https://localhost:8080/"
        },
        "outputId": "ccbfccf4-fa8a-4678-f221-a3b60b76c840"
      },
      "source": [
        "# Accessing elements\n",
        "print(mat1[1, 3])\n",
        "print(mat1[1:3, 3:5])\n",
        "print(mat1[1, :])\n",
        "print(mat1[2, :])"
      ],
      "execution_count": null,
      "outputs": [
        {
          "output_type": "stream",
          "text": [
            "tensor(2328)\n",
            "tensor([[2328, 2539],\n",
            "        [6461, 2691]])\n",
            "tensor([1478, 3877, 3674, 2328, 2539])\n",
            "tensor([1613, 4088, 3991, 6461, 2691])\n"
          ],
          "name": "stdout"
        }
      ]
    },
    {
      "cell_type": "code",
      "metadata": {
        "id": "42ThxCKQ4ra8",
        "colab": {
          "base_uri": "https://localhost:8080/"
        },
        "outputId": "70d4370d-c0d5-4f79-f7a3-e889af10c06d"
      },
      "source": [
        "# Vectorized operations on rows or columns\n",
        "print(mat1[0, :] + mat1[1, :])\n",
        "print(mat1[:, 0] + mat1[:, 1])"
      ],
      "execution_count": null,
      "outputs": [
        {
          "output_type": "stream",
          "text": [
            "tensor([1478, 3877, 3676, 2333, 2539])\n",
            "tensor([   0, 5355, 5701, 4952, 6410, 5509,  324,    2, 5223, 5385])\n"
          ],
          "name": "stdout"
        }
      ]
    },
    {
      "cell_type": "code",
      "metadata": {
        "id": "EcEwd8NG4ra8",
        "colab": {
          "base_uri": "https://localhost:8080/"
        },
        "outputId": "c49669fb-9923-485c-b1e0-1877c6f58c01"
      },
      "source": [
        "# Vectorized operations on entire arrays\n",
        "a = torch.tensor([[1, 2, 3], [4, 5, 6], [7, 8, 9]])\n",
        "b = torch.tensor([[1, 1, 1], [2, 2, 2], [3, 3, 3]])\n",
        "print(a + b)"
      ],
      "execution_count": null,
      "outputs": [
        {
          "output_type": "stream",
          "text": [
            "tensor([[ 2,  3,  4],\n",
            "        [ 6,  7,  8],\n",
            "        [10, 11, 12]])\n"
          ],
          "name": "stdout"
        }
      ]
    },
    {
      "cell_type": "markdown",
      "metadata": {
        "id": "zKWsdpm24ra8"
      },
      "source": [
        "### Example 2"
      ]
    },
    {
      "cell_type": "code",
      "metadata": {
        "id": "DeeJ44Ml4ra8",
        "colab": {
          "base_uri": "https://localhost:8080/"
        },
        "outputId": "6dc75f3f-6786-4146-a701-7acf1e8e8656"
      },
      "source": [
        "# torch axis argument\n",
        "a = torch.tensor([\n",
        "    [1, 2, 3],\n",
        "    [4, 5, 6],\n",
        "    [7, 8, 9]\n",
        "])\n",
        "    \n",
        "print(a.sum())\n",
        "print(a.sum(axis=0))\n",
        "print(a.sum(axis=1))"
      ],
      "execution_count": null,
      "outputs": [
        {
          "output_type": "stream",
          "text": [
            "tensor(45)\n",
            "tensor([12, 15, 18])\n",
            "tensor([ 6, 15, 24])\n"
          ],
          "name": "stdout"
        }
      ]
    },
    {
      "cell_type": "markdown",
      "metadata": {
        "id": "ZFIizJl24ra8"
      },
      "source": [
        "### Problem 4\n",
        "\n",
        "\n",
        "Fill in the following cell to achieve the effect of the `for` for the array `mat1` above, store the maximum entry of each row of a list version of `mat1`:\n",
        "\n",
        "```python\n",
        "mat1 = [[   0,    0,    2,    5,    0],\n",
        "    [1478, 3877, 3674, 2328, 2539],\n",
        "    [1613, 4088, 3991, 6461, 2691],\n",
        "    [1560, 3392, 3826, 4787, 2613],\n",
        "    [1608, 4802, 3932, 4477, 2705],\n",
        "    [1576, 3933, 3909, 4979, 2685],\n",
        "    [  95,  229,  255,  496,  201],\n",
        "    [   2,    0,    1,   27,    0],\n",
        "    [1438, 3785, 3589, 4174, 2215],\n",
        "    [1342, 4043, 4009, 4665, 3033]]\n",
        "row_max = []\n",
        "for row in mat1:\n",
        "    row_max.append(max(row))\n",
        "```"
      ]
    },
    {
      "cell_type": "code",
      "metadata": {
        "id": "bMSxX6l24ra8",
        "colab": {
          "base_uri": "https://localhost:8080/"
        },
        "outputId": "078b95f6-2785-453e-97f7-e578f5a9f2db"
      },
      "source": [
        "print(mat1.max(axis=1))     \n",
        "print(row_max)"
      ],
      "execution_count": null,
      "outputs": [
        {
          "output_type": "stream",
          "text": [
            "torch.return_types.max(\n",
            "values=tensor([   5, 3877, 6461, 4787, 4802, 4979,  496,   27, 4174, 4665]),\n",
            "indices=tensor([3, 1, 3, 3, 1, 3, 3, 3, 3, 3]))\n",
            "torch.return_types.max(\n",
            "values=tensor([   5, 3877, 6461, 4787, 4802, 4979,  496,   27, 4174, 4665]),\n",
            "indices=tensor([3, 1, 3, 3, 1, 3, 3, 3, 3, 3]))\n"
          ],
          "name": "stdout"
        }
      ]
    },
    {
      "cell_type": "markdown",
      "metadata": {
        "id": "7lcoihS_4ra8"
      },
      "source": [
        "### Problem 5\n",
        "\n",
        "Fill in the following cell to achieve the effect of the `for` for the array `mat1` above, store the index of the maximum entry of each row of a list version of `mat1`:\n",
        "\n",
        "```python\n",
        "mat1 = [[   0,    0,    2,    5,    0],\n",
        "    [1478, 3877, 3674, 2328, 2539],\n",
        "    [1613, 4088, 3991, 6461, 2691],\n",
        "    [1560, 3392, 3826, 4787, 2613],\n",
        "    [1608, 4802, 3932, 4477, 2705],\n",
        "    [1576, 3933, 3909, 4979, 2685],\n",
        "    [  95,  229,  255,  496,  201],\n",
        "    [   2,    0,    1,   27,    0],\n",
        "    [1438, 3785, 3589, 4174, 2215],\n",
        "    [1342, 4043, 4009, 4665, 3033]]\n",
        "index_max = []\n",
        "for row in mat1:\n",
        "    tmp = row.index(max(row))\n",
        "    index_max.append(index_max)\n",
        "```\n",
        "\n",
        "Hint: the function `argmax()` in PyTorch may be helpful: https://pytorch.org/docs/stable/generated/torch.argmax.html, which can be either applied as a function or as a method for the tensor `a.argmax()` with an `axis=` argument."
      ]
    },
    {
      "cell_type": "code",
      "metadata": {
        "id": "B1kqX9WA4ra9",
        "colab": {
          "base_uri": "https://localhost:8080/"
        },
        "outputId": "2b9873f3-55bb-4ad5-d432-f8e874e8ecdd"
      },
      "source": [
        "index_max = mat1.argmax(axis=1)\n",
        "\n",
        "print(index_max)"
      ],
      "execution_count": null,
      "outputs": [
        {
          "output_type": "stream",
          "text": [
            "tensor([3, 1, 3, 3, 1, 3, 3, 3, 3, 3])\n"
          ],
          "name": "stdout"
        }
      ]
    },
    {
      "cell_type": "markdown",
      "metadata": {
        "id": "2lxKPUW64ra9"
      },
      "source": [
        "## Runtime Comparison"
      ]
    },
    {
      "cell_type": "code",
      "metadata": {
        "id": "Q7HOv9Hz4ra-"
      },
      "source": [
        "import time"
      ],
      "execution_count": 5,
      "outputs": []
    },
    {
      "cell_type": "markdown",
      "metadata": {
        "id": "kA9btyb34ra-"
      },
      "source": [
        "We will need to be able to generate random numbers for hte next problem. `PyTorch` also all sorts of random number generator similar to `numpy.random` submodule. \n",
        "\n",
        "We can use `?` to access the documentation of every function, so keep it in mind for easy access to documentations! If we are in Colab or Visual Studio Code, hovering the mouse over a function pops up the documentation as well."
      ]
    },
    {
      "cell_type": "code",
      "metadata": {
        "id": "XMJNEDbo4ra-"
      },
      "source": [
        "?torch.randn "
      ],
      "execution_count": null,
      "outputs": []
    },
    {
      "cell_type": "code",
      "metadata": {
        "id": "K4hs04QjbbGi",
        "colab": {
          "base_uri": "https://localhost:8080/"
        },
        "outputId": "b5fd8318-7497-49d3-d613-99be0563cae8"
      },
      "source": [
        "mat1 = [[   0,    0,    2,    5,    0],\r\n",
        "    [1478, 3877, 3674, 2328, 2539],\r\n",
        "    [1613, 4088, 3991, 6461, 2691],\r\n",
        "    [1560, 3392, 3826, 4787, 2613],\r\n",
        "    [1608, 4802, 3932, 4477, 2705],\r\n",
        "    [1576, 3933, 3909, 4979, 2685],\r\n",
        "    [  95,  229,  255,  496,  201],\r\n",
        "    [   2,    0,    1,   27,    0],\r\n",
        "    [1438, 3785, 3589, 4174, 2215],\r\n",
        "    [1342, 4043, 4009, 4665, 3033]]\r\n",
        "row_max = []\r\n",
        "for row in mat1:\r\n",
        "  sum = 0\r\n",
        "  for i in row:\r\n",
        "    sum+= i\r\n",
        "  row_max.append(sum)\r\n",
        "print(row_max)"
      ],
      "execution_count": null,
      "outputs": [
        {
          "output_type": "stream",
          "text": [
            "[7, 13896, 18844, 16178, 17524, 17082, 1276, 30, 15201, 17092]\n"
          ],
          "name": "stdout"
        }
      ]
    },
    {
      "cell_type": "markdown",
      "metadata": {
        "id": "je0oQeIN4ra-"
      },
      "source": [
        "\n",
        "### Problem 6\n",
        "\n",
        "Using `torch.randn` function, which takes in inputs `(n,m)`, to generate a random 2d array of `n` rows and `m` columns. \n",
        "\n",
        "Note: we should format the code as `torch.randn((2,5))` not `torch.randn(2,5)` if we want to generate a 2 by 5 random matrix."
      ]
    },
    {
      "cell_type": "code",
      "metadata": {
        "id": "xuaZB49m4ra-"
      },
      "source": [
        "\n",
        "def calculate_row_sums_loop(random_2d_array):\n",
        "    \"\"\"\n",
        "    Fill in this function to calculate row sums of 2d_array using a for loop.\n",
        "    \"\"\" \n",
        "    result = []\n",
        "    for row in random_2d_array:\n",
        "        sum = 0\n",
        "        for i in row:\n",
        "            sum += i\n",
        "        result.append(sum)\n",
        "    return result"
      ],
      "execution_count": 1,
      "outputs": []
    },
    {
      "cell_type": "code",
      "metadata": {
        "id": "djByzteX4ra-"
      },
      "source": [
        "def calculate_row_sums_vec(random_2d_array):\n",
        "\n",
        "    result = random_2d_array.sum(axis=1)\n",
        "\n",
        "    return result"
      ],
      "execution_count": 2,
      "outputs": []
    },
    {
      "cell_type": "code",
      "metadata": {
        "id": "dHH4o4EYgTJL"
      },
      "source": [
        "def generate_random_2d_array(num_rows, num_cols):\r\n",
        "    return torch.randn((num_rows, num_cols))"
      ],
      "execution_count": 3,
      "outputs": []
    },
    {
      "cell_type": "markdown",
      "metadata": {
        "id": "s9KbyPu14ra-"
      },
      "source": [
        "After you done with the functions above, run this to compare runtime of for loops and numpy functions. Play with the matrix dimesions to see the effect! Hint: for the non-vectorized function it should take"
      ]
    },
    {
      "cell_type": "code",
      "metadata": {
        "id": "Xfgy1QMY4ra-",
        "colab": {
          "base_uri": "https://localhost:8080/"
        },
        "outputId": "00e58fcf-76c4-41e0-b52f-bab9ef7531dd"
      },
      "source": [
        "# generate a random 2d array\n",
        "num_rows = 1000\n",
        "num_cols = 1000\n",
        "random_2d_array = generate_random_2d_array(num_rows, num_cols)\n",
        "\n",
        "start = time.time()\n",
        "# calculate row sums by for loop\n",
        "calculate_row_sums_loop(random_2d_array)\n",
        "end = time.time()\n",
        "print(f\"loop: {end - start} secs.\")\n",
        "\n",
        "start = time.time()\n",
        "# calculate row sums by for np.sum\n",
        "calculate_row_sums_vec(random_2d_array)\n",
        "end = time.time()\n",
        "print(f\"loop: {end - start} secs.\")"
      ],
      "execution_count": 7,
      "outputs": [
        {
          "output_type": "stream",
          "text": [
            "loop: 2.6509666442871094 secs.\n",
            "loop: 0.006435394287109375 secs.\n"
          ],
          "name": "stdout"
        }
      ]
    },
    {
      "cell_type": "code",
      "metadata": {
        "id": "nB0kC98q4ra_"
      },
      "source": [
        "# extra cell"
      ],
      "execution_count": null,
      "outputs": []
    }
  ]
}